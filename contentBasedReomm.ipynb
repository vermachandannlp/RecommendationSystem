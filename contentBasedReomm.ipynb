{
 "cells": [
  {
   "cell_type": "code",
   "execution_count": 1,
   "id": "04eafec0",
   "metadata": {},
   "outputs": [],
   "source": [
    "import pandas as pd\n",
    "import numpy as np\n",
    "import seaborn as sb\n",
    "from matplotlib import pyplot as plt\n",
    "import warnings\n",
    "warnings.filterwarnings(\"ignore\")"
   ]
  },
  {
   "cell_type": "code",
   "execution_count": 2,
   "id": "8706e401",
   "metadata": {},
   "outputs": [],
   "source": [
    "data=pd.read_csv(\"C:/Users/mail2/OneDrive/Desktop/Ml_Data/NLP_DATA/medicine.csv\")"
   ]
  },
  {
   "cell_type": "code",
   "execution_count": 3,
   "id": "2303b879",
   "metadata": {},
   "outputs": [
    {
     "data": {
      "text/html": [
       "<div>\n",
       "<style scoped>\n",
       "    .dataframe tbody tr th:only-of-type {\n",
       "        vertical-align: middle;\n",
       "    }\n",
       "\n",
       "    .dataframe tbody tr th {\n",
       "        vertical-align: top;\n",
       "    }\n",
       "\n",
       "    .dataframe thead th {\n",
       "        text-align: right;\n",
       "    }\n",
       "</style>\n",
       "<table border=\"1\" class=\"dataframe\">\n",
       "  <thead>\n",
       "    <tr style=\"text-align: right;\">\n",
       "      <th></th>\n",
       "      <th>index</th>\n",
       "      <th>Drug_Name</th>\n",
       "      <th>Reason</th>\n",
       "      <th>Description</th>\n",
       "    </tr>\n",
       "  </thead>\n",
       "  <tbody>\n",
       "    <tr>\n",
       "      <th>0</th>\n",
       "      <td>1</td>\n",
       "      <td>A CN Gel(Topical) 20gmA CN Soap 75gm</td>\n",
       "      <td>Acne</td>\n",
       "      <td>Mild to moderate acne (spots)</td>\n",
       "    </tr>\n",
       "  </tbody>\n",
       "</table>\n",
       "</div>"
      ],
      "text/plain": [
       "   index                             Drug_Name Reason  \\\n",
       "0      1  A CN Gel(Topical) 20gmA CN Soap 75gm   Acne   \n",
       "\n",
       "                     Description  \n",
       "0  Mild to moderate acne (spots)  "
      ]
     },
     "execution_count": 3,
     "metadata": {},
     "output_type": "execute_result"
    }
   ],
   "source": [
    "data.head(1)"
   ]
  },
  {
   "cell_type": "raw",
   "id": "65fdaec5",
   "metadata": {},
   "source": [
    "plt.figure(figsize=(10,8))\n",
    "sb.countplot(\"Reason\",data=data)\n",
    "plt.xticks(rotation=90)\n",
    "plt.show()"
   ]
  },
  {
   "cell_type": "code",
   "execution_count": 4,
   "id": "301fa94b",
   "metadata": {},
   "outputs": [],
   "source": [
    "#data.info()\n",
    "#data.duplicated().sum()"
   ]
  },
  {
   "cell_type": "code",
   "execution_count": 5,
   "id": "6b6b175b",
   "metadata": {},
   "outputs": [
    {
     "data": {
      "text/plain": [
       "'Mild to moderate acne (spots)'"
      ]
     },
     "execution_count": 5,
     "metadata": {},
     "output_type": "execute_result"
    }
   ],
   "source": [
    "#tokenization\n",
    "data[\"Description\"][0]"
   ]
  },
  {
   "cell_type": "code",
   "execution_count": 6,
   "id": "b44d7ad3",
   "metadata": {},
   "outputs": [],
   "source": [
    "data[\"Description\"]=data[\"Description\"].apply(lambda x:x.split(' '))\n",
    "data[\"Reason\"]=data[\"Reason\"].apply(lambda x:x.split(' '))"
   ]
  },
  {
   "cell_type": "code",
   "execution_count": 7,
   "id": "1a1597fc",
   "metadata": {},
   "outputs": [
    {
     "data": {
      "text/html": [
       "<div>\n",
       "<style scoped>\n",
       "    .dataframe tbody tr th:only-of-type {\n",
       "        vertical-align: middle;\n",
       "    }\n",
       "\n",
       "    .dataframe tbody tr th {\n",
       "        vertical-align: top;\n",
       "    }\n",
       "\n",
       "    .dataframe thead th {\n",
       "        text-align: right;\n",
       "    }\n",
       "</style>\n",
       "<table border=\"1\" class=\"dataframe\">\n",
       "  <thead>\n",
       "    <tr style=\"text-align: right;\">\n",
       "      <th></th>\n",
       "      <th>index</th>\n",
       "      <th>Drug_Name</th>\n",
       "      <th>Reason</th>\n",
       "      <th>Description</th>\n",
       "    </tr>\n",
       "  </thead>\n",
       "  <tbody>\n",
       "    <tr>\n",
       "      <th>0</th>\n",
       "      <td>1</td>\n",
       "      <td>A CN Gel(Topical) 20gmA CN Soap 75gm</td>\n",
       "      <td>[Acne]</td>\n",
       "      <td>[Mild, to, moderate, acne, (spots)]</td>\n",
       "    </tr>\n",
       "  </tbody>\n",
       "</table>\n",
       "</div>"
      ],
      "text/plain": [
       "   index                             Drug_Name  Reason  \\\n",
       "0      1  A CN Gel(Topical) 20gmA CN Soap 75gm  [Acne]   \n",
       "\n",
       "                           Description  \n",
       "0  [Mild, to, moderate, acne, (spots)]  "
      ]
     },
     "execution_count": 7,
     "metadata": {},
     "output_type": "execute_result"
    }
   ],
   "source": [
    "data.head(1)"
   ]
  },
  {
   "cell_type": "code",
   "execution_count": 8,
   "id": "97c85275",
   "metadata": {},
   "outputs": [],
   "source": [
    "data['Description'] = data['Description'].apply(lambda x:[i.replace(\" \",\"\") for i in x])"
   ]
  },
  {
   "cell_type": "code",
   "execution_count": 9,
   "id": "c475a4ce",
   "metadata": {},
   "outputs": [],
   "source": [
    "#data['Description'] = data['Description'].apply(lambda x:[i.replace(\" \",\"\") for i in x])"
   ]
  },
  {
   "cell_type": "code",
   "execution_count": 10,
   "id": "709d9227",
   "metadata": {},
   "outputs": [
    {
     "data": {
      "text/html": [
       "<div>\n",
       "<style scoped>\n",
       "    .dataframe tbody tr th:only-of-type {\n",
       "        vertical-align: middle;\n",
       "    }\n",
       "\n",
       "    .dataframe tbody tr th {\n",
       "        vertical-align: top;\n",
       "    }\n",
       "\n",
       "    .dataframe thead th {\n",
       "        text-align: right;\n",
       "    }\n",
       "</style>\n",
       "<table border=\"1\" class=\"dataframe\">\n",
       "  <thead>\n",
       "    <tr style=\"text-align: right;\">\n",
       "      <th></th>\n",
       "      <th>index</th>\n",
       "      <th>Drug_Name</th>\n",
       "      <th>Reason</th>\n",
       "      <th>Description</th>\n",
       "    </tr>\n",
       "  </thead>\n",
       "  <tbody>\n",
       "    <tr>\n",
       "      <th>0</th>\n",
       "      <td>1</td>\n",
       "      <td>A CN Gel(Topical) 20gmA CN Soap 75gm</td>\n",
       "      <td>[Acne]</td>\n",
       "      <td>[Mild, to, moderate, acne, (spots)]</td>\n",
       "    </tr>\n",
       "  </tbody>\n",
       "</table>\n",
       "</div>"
      ],
      "text/plain": [
       "   index                             Drug_Name  Reason  \\\n",
       "0      1  A CN Gel(Topical) 20gmA CN Soap 75gm  [Acne]   \n",
       "\n",
       "                           Description  \n",
       "0  [Mild, to, moderate, acne, (spots)]  "
      ]
     },
     "execution_count": 10,
     "metadata": {},
     "output_type": "execute_result"
    }
   ],
   "source": [
    "data.head(1)"
   ]
  },
  {
   "cell_type": "code",
   "execution_count": 11,
   "id": "a344c61c",
   "metadata": {},
   "outputs": [],
   "source": [
    "data[\"Reason_Description\"]=data[\"Description\"]+data[\"Reason\"]"
   ]
  },
  {
   "cell_type": "code",
   "execution_count": 12,
   "id": "8682de6f",
   "metadata": {},
   "outputs": [
    {
     "data": {
      "text/html": [
       "<div>\n",
       "<style scoped>\n",
       "    .dataframe tbody tr th:only-of-type {\n",
       "        vertical-align: middle;\n",
       "    }\n",
       "\n",
       "    .dataframe tbody tr th {\n",
       "        vertical-align: top;\n",
       "    }\n",
       "\n",
       "    .dataframe thead th {\n",
       "        text-align: right;\n",
       "    }\n",
       "</style>\n",
       "<table border=\"1\" class=\"dataframe\">\n",
       "  <thead>\n",
       "    <tr style=\"text-align: right;\">\n",
       "      <th></th>\n",
       "      <th>index</th>\n",
       "      <th>Drug_Name</th>\n",
       "      <th>Reason</th>\n",
       "      <th>Description</th>\n",
       "      <th>Reason_Description</th>\n",
       "    </tr>\n",
       "  </thead>\n",
       "  <tbody>\n",
       "    <tr>\n",
       "      <th>0</th>\n",
       "      <td>1</td>\n",
       "      <td>A CN Gel(Topical) 20gmA CN Soap 75gm</td>\n",
       "      <td>[Acne]</td>\n",
       "      <td>[Mild, to, moderate, acne, (spots)]</td>\n",
       "      <td>[Mild, to, moderate, acne, (spots), Acne]</td>\n",
       "    </tr>\n",
       "  </tbody>\n",
       "</table>\n",
       "</div>"
      ],
      "text/plain": [
       "   index                             Drug_Name  Reason  \\\n",
       "0      1  A CN Gel(Topical) 20gmA CN Soap 75gm  [Acne]   \n",
       "\n",
       "                           Description  \\\n",
       "0  [Mild, to, moderate, acne, (spots)]   \n",
       "\n",
       "                          Reason_Description  \n",
       "0  [Mild, to, moderate, acne, (spots), Acne]  "
      ]
     },
     "execution_count": 12,
     "metadata": {},
     "output_type": "execute_result"
    }
   ],
   "source": [
    "data.head(1)"
   ]
  },
  {
   "cell_type": "code",
   "execution_count": 13,
   "id": "933da15d",
   "metadata": {},
   "outputs": [],
   "source": [
    "data_recomm=data[[\"index\",\"Drug_Name\",\"Reason_Description\"]]"
   ]
  },
  {
   "cell_type": "code",
   "execution_count": 14,
   "id": "e9350e53",
   "metadata": {},
   "outputs": [
    {
     "data": {
      "text/html": [
       "<div>\n",
       "<style scoped>\n",
       "    .dataframe tbody tr th:only-of-type {\n",
       "        vertical-align: middle;\n",
       "    }\n",
       "\n",
       "    .dataframe tbody tr th {\n",
       "        vertical-align: top;\n",
       "    }\n",
       "\n",
       "    .dataframe thead th {\n",
       "        text-align: right;\n",
       "    }\n",
       "</style>\n",
       "<table border=\"1\" class=\"dataframe\">\n",
       "  <thead>\n",
       "    <tr style=\"text-align: right;\">\n",
       "      <th></th>\n",
       "      <th>index</th>\n",
       "      <th>Drug_Name</th>\n",
       "      <th>Reason_Description</th>\n",
       "    </tr>\n",
       "  </thead>\n",
       "  <tbody>\n",
       "    <tr>\n",
       "      <th>0</th>\n",
       "      <td>1</td>\n",
       "      <td>A CN Gel(Topical) 20gmA CN Soap 75gm</td>\n",
       "      <td>[Mild, to, moderate, acne, (spots), Acne]</td>\n",
       "    </tr>\n",
       "  </tbody>\n",
       "</table>\n",
       "</div>"
      ],
      "text/plain": [
       "   index                             Drug_Name  \\\n",
       "0      1  A CN Gel(Topical) 20gmA CN Soap 75gm   \n",
       "\n",
       "                          Reason_Description  \n",
       "0  [Mild, to, moderate, acne, (spots), Acne]  "
      ]
     },
     "execution_count": 14,
     "metadata": {},
     "output_type": "execute_result"
    }
   ],
   "source": [
    "data_recomm.head(1)"
   ]
  },
  {
   "cell_type": "code",
   "execution_count": 15,
   "id": "d3c3393c",
   "metadata": {},
   "outputs": [],
   "source": [
    "data_recomm[\"Reason_Description\"]=data_recomm[\"Reason_Description\"].apply(lambda x:\" \".join(x))"
   ]
  },
  {
   "cell_type": "code",
   "execution_count": 16,
   "id": "c96759d8",
   "metadata": {},
   "outputs": [
    {
     "data": {
      "text/html": [
       "<div>\n",
       "<style scoped>\n",
       "    .dataframe tbody tr th:only-of-type {\n",
       "        vertical-align: middle;\n",
       "    }\n",
       "\n",
       "    .dataframe tbody tr th {\n",
       "        vertical-align: top;\n",
       "    }\n",
       "\n",
       "    .dataframe thead th {\n",
       "        text-align: right;\n",
       "    }\n",
       "</style>\n",
       "<table border=\"1\" class=\"dataframe\">\n",
       "  <thead>\n",
       "    <tr style=\"text-align: right;\">\n",
       "      <th></th>\n",
       "      <th>index</th>\n",
       "      <th>Drug_Name</th>\n",
       "      <th>Reason_Description</th>\n",
       "    </tr>\n",
       "  </thead>\n",
       "  <tbody>\n",
       "    <tr>\n",
       "      <th>0</th>\n",
       "      <td>1</td>\n",
       "      <td>A CN Gel(Topical) 20gmA CN Soap 75gm</td>\n",
       "      <td>Mild to moderate acne (spots) Acne</td>\n",
       "    </tr>\n",
       "  </tbody>\n",
       "</table>\n",
       "</div>"
      ],
      "text/plain": [
       "   index                             Drug_Name  \\\n",
       "0      1  A CN Gel(Topical) 20gmA CN Soap 75gm   \n",
       "\n",
       "                   Reason_Description  \n",
       "0  Mild to moderate acne (spots) Acne  "
      ]
     },
     "execution_count": 16,
     "metadata": {},
     "output_type": "execute_result"
    }
   ],
   "source": [
    "data_recomm.head(1)"
   ]
  },
  {
   "cell_type": "code",
   "execution_count": 35,
   "id": "b43a8fac",
   "metadata": {},
   "outputs": [],
   "source": [
    "data_recomm[\"Reason_Description\"]=data_recomm[\"Reason_Description\"].apply(lambda x:x.lower())"
   ]
  },
  {
   "cell_type": "code",
   "execution_count": 43,
   "id": "75efecf1",
   "metadata": {},
   "outputs": [],
   "source": [
    "import nltk\n",
    "from nltk.stem.porter import PorterStemmer\n",
    "from nltk.stem import WordNetLemmatizer"
   ]
  },
  {
   "cell_type": "code",
   "execution_count": 44,
   "id": "40eeecb2",
   "metadata": {},
   "outputs": [],
   "source": [
    "ps_stemmer=PorterStemmer()\n",
    "ps_lemmatizer = WordNetLemmatizer()"
   ]
  },
  {
   "cell_type": "code",
   "execution_count": 60,
   "id": "ef1b887b",
   "metadata": {},
   "outputs": [],
   "source": [
    "def porter_step(text):\n",
    "    list_y=[]\n",
    "    for i in text.split():\n",
    "        list_y.append(ps_lemmatizer.lemmatize(i))\n",
    "    return \" \".join(list_y)"
   ]
  },
  {
   "cell_type": "code",
   "execution_count": 61,
   "id": "8e827cbd",
   "metadata": {},
   "outputs": [],
   "source": [
    "data_recomm[\"Reason_Description\"]=data_recomm[\"Reason_Description\"].apply(porter_step)"
   ]
  },
  {
   "cell_type": "code",
   "execution_count": 62,
   "id": "5f2eb4a4",
   "metadata": {},
   "outputs": [
    {
     "data": {
      "text/html": [
       "<div>\n",
       "<style scoped>\n",
       "    .dataframe tbody tr th:only-of-type {\n",
       "        vertical-align: middle;\n",
       "    }\n",
       "\n",
       "    .dataframe tbody tr th {\n",
       "        vertical-align: top;\n",
       "    }\n",
       "\n",
       "    .dataframe thead th {\n",
       "        text-align: right;\n",
       "    }\n",
       "</style>\n",
       "<table border=\"1\" class=\"dataframe\">\n",
       "  <thead>\n",
       "    <tr style=\"text-align: right;\">\n",
       "      <th></th>\n",
       "      <th>index</th>\n",
       "      <th>Drug_Name</th>\n",
       "      <th>Reason_Description</th>\n",
       "    </tr>\n",
       "  </thead>\n",
       "  <tbody>\n",
       "    <tr>\n",
       "      <th>0</th>\n",
       "      <td>1</td>\n",
       "      <td>A CN Gel(Topical) 20gmA CN Soap 75gm</td>\n",
       "      <td>mild to moder acn (spots) acn</td>\n",
       "    </tr>\n",
       "  </tbody>\n",
       "</table>\n",
       "</div>"
      ],
      "text/plain": [
       "   index                             Drug_Name             Reason_Description\n",
       "0      1  A CN Gel(Topical) 20gmA CN Soap 75gm  mild to moder acn (spots) acn"
      ]
     },
     "execution_count": 62,
     "metadata": {},
     "output_type": "execute_result"
    }
   ],
   "source": [
    "data_recomm.head(1)"
   ]
  },
  {
   "cell_type": "code",
   "execution_count": 63,
   "id": "f11895ff",
   "metadata": {},
   "outputs": [],
   "source": [
    "#tfidf"
   ]
  },
  {
   "cell_type": "code",
   "execution_count": 64,
   "id": "2c6b1140",
   "metadata": {},
   "outputs": [],
   "source": [
    "from sklearn.feature_extraction.text import CountVectorizer,TfidfVectorizer"
   ]
  },
  {
   "cell_type": "code",
   "execution_count": 65,
   "id": "e7f9185d",
   "metadata": {},
   "outputs": [],
   "source": [
    "tf_id_vector=TfidfVectorizer(use_idf=True,ngram_range=(2,2),stop_words=\"english\")"
   ]
  },
  {
   "cell_type": "code",
   "execution_count": 66,
   "id": "f667e332",
   "metadata": {},
   "outputs": [],
   "source": [
    "vector=tf_id_vector.fit_transform(data_recomm[\"Reason_Description\"]).toarray()"
   ]
  },
  {
   "cell_type": "code",
   "execution_count": 73,
   "id": "d886960f",
   "metadata": {},
   "outputs": [],
   "source": [
    "#vector.shape"
   ]
  },
  {
   "cell_type": "code",
   "execution_count": 74,
   "id": "f1a0495b",
   "metadata": {},
   "outputs": [],
   "source": [
    "#tf_id_vector.get_feature_names()"
   ]
  },
  {
   "cell_type": "code",
   "execution_count": 76,
   "id": "8176ddd7",
   "metadata": {},
   "outputs": [],
   "source": [
    "#vector_similarity\n",
    "from sklearn.metrics.pairwise import cosine_similarity"
   ]
  },
  {
   "cell_type": "code",
   "execution_count": 78,
   "id": "80bbe818",
   "metadata": {},
   "outputs": [],
   "source": [
    "vector_similarity=cosine_similarity(vector)"
   ]
  },
  {
   "cell_type": "code",
   "execution_count": 80,
   "id": "83ba143c",
   "metadata": {},
   "outputs": [],
   "source": [
    "#vector_similarity[1]"
   ]
  },
  {
   "cell_type": "code",
   "execution_count": 82,
   "id": "4f4a6cf6",
   "metadata": {},
   "outputs": [],
   "source": [
    "def med_recomm(medicine):\n",
    "    med_index=data_recomm[data_recomm[\"Drug_Name\"]==medicine].index[0]\n",
    "    distance=vector_similarity[med_index]\n",
    "    med_list=sorted(list(enumerate(distance)),reverse=True,key=lambda x:x[1])[1:6]\n",
    "    for i in med_list:\n",
    "        print(data_recomm.iloc[i[0]].Drug_Name)"
   ]
  },
  {
   "cell_type": "code",
   "execution_count": 85,
   "id": "4b12d657",
   "metadata": {},
   "outputs": [
    {
     "data": {
      "text/plain": [
       "'A Ret 0.05% Gel 20gmA Ret 0.1% Gel 20gmA Ret 0.025% Gel 20gm'"
      ]
     },
     "execution_count": 85,
     "metadata": {},
     "output_type": "execute_result"
    }
   ],
   "source": [
    "data[\"Drug_Name\"][1]"
   ]
  },
  {
   "cell_type": "code",
   "execution_count": 86,
   "id": "130e23f1",
   "metadata": {},
   "outputs": [
    {
     "name": "stdout",
     "output_type": "stream",
     "text": [
      "Acnedap Plus Gel 15gm\n",
      "Acnetoin Plus Oinment 15gm\n",
      "Acno 0.05% Gel 15gmAcno 20mg Capsule 10'S\n",
      "Adiff Aqueous Gel 15gm\n",
      "Alesa 2.5% Gel 1gmAlesa 5% Gel 1gm\n"
     ]
    }
   ],
   "source": [
    "med_recomm('A Ret 0.05% Gel 20gmA Ret 0.1% Gel 20gmA Ret 0.025% Gel 20gm')"
   ]
  },
  {
   "cell_type": "code",
   "execution_count": null,
   "id": "c738c400",
   "metadata": {},
   "outputs": [],
   "source": []
  }
 ],
 "metadata": {
  "kernelspec": {
   "display_name": "Python 3 (ipykernel)",
   "language": "python",
   "name": "python3"
  },
  "language_info": {
   "codemirror_mode": {
    "name": "ipython",
    "version": 3
   },
   "file_extension": ".py",
   "mimetype": "text/x-python",
   "name": "python",
   "nbconvert_exporter": "python",
   "pygments_lexer": "ipython3",
   "version": "3.9.12"
  }
 },
 "nbformat": 4,
 "nbformat_minor": 5
}
